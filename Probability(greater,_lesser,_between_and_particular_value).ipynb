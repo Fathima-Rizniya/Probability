{
  "nbformat": 4,
  "nbformat_minor": 0,
  "metadata": {
    "colab": {
      "name": "Probability(greater, lesser, between and particular value).ipynb",
      "provenance": [],
      "collapsed_sections": []
    },
    "kernelspec": {
      "name": "python3",
      "display_name": "Python 3"
    },
    "language_info": {
      "name": "python"
    }
  },
  "cells": [
    {
      "cell_type": "code",
      "execution_count": null,
      "metadata": {
        "colab": {
          "base_uri": "https://localhost:8080/",
          "height": 269
        },
        "id": "K6o10Z-a90x3",
        "outputId": "15df0633-5b22-430b-f654-1bdca861a5cc"
      },
      "outputs": [
        {
          "name": "stdout",
          "output_type": "stream",
          "text": [
            "2000\n",
            "200\n"
          ]
        },
        {
          "output_type": "error",
          "ename": "AttributeError",
          "evalue": "ignored",
          "traceback": [
            "\u001b[0;31m---------------------------------------------------------------------------\u001b[0m",
            "\u001b[0;31mAttributeError\u001b[0m                            Traceback (most recent call last)",
            "\u001b[0;32m<ipython-input-13-9e170a30c74a>\u001b[0m in \u001b[0;36m<module>\u001b[0;34m()\u001b[0m\n\u001b[1;32m      4\u001b[0m \u001b[0mmean1\u001b[0m \u001b[0;34m=\u001b[0m \u001b[0mfloat\u001b[0m\u001b[0;34m(\u001b[0m\u001b[0minput\u001b[0m\u001b[0;34m(\u001b[0m\u001b[0;34m)\u001b[0m\u001b[0;34m)\u001b[0m\u001b[0;34m\u001b[0m\u001b[0;34m\u001b[0m\u001b[0m\n\u001b[1;32m      5\u001b[0m \u001b[0mstdeviation\u001b[0m \u001b[0;34m=\u001b[0m \u001b[0mfloat\u001b[0m\u001b[0;34m(\u001b[0m\u001b[0minput\u001b[0m\u001b[0;34m(\u001b[0m\u001b[0;34m)\u001b[0m\u001b[0;34m)\u001b[0m\u001b[0;34m\u001b[0m\u001b[0;34m\u001b[0m\u001b[0m\n\u001b[0;32m----> 6\u001b[0;31m \u001b[0mnd\u001b[0m\u001b[0;34m=\u001b[0m\u001b[0ms\u001b[0m\u001b[0;34m.\u001b[0m\u001b[0mNormalDist\u001b[0m\u001b[0;34m(\u001b[0m\u001b[0mmu\u001b[0m\u001b[0;34m=\u001b[0m\u001b[0mmean1\u001b[0m\u001b[0;34m,\u001b[0m\u001b[0msigma\u001b[0m\u001b[0;34m=\u001b[0m\u001b[0mstdeviation\u001b[0m\u001b[0;34m)\u001b[0m\u001b[0;34m\u001b[0m\u001b[0;34m\u001b[0m\u001b[0m\n\u001b[0m\u001b[1;32m      7\u001b[0m \u001b[0mcont\u001b[0m\u001b[0;34m=\u001b[0m\u001b[0;36m1\u001b[0m\u001b[0;34m\u001b[0m\u001b[0;34m\u001b[0m\u001b[0m\n\u001b[1;32m      8\u001b[0m \u001b[0;32mwhile\u001b[0m\u001b[0;34m(\u001b[0m\u001b[0mcont\u001b[0m\u001b[0;34m==\u001b[0m\u001b[0;36m1\u001b[0m\u001b[0;34m)\u001b[0m\u001b[0;34m:\u001b[0m\u001b[0;34m\u001b[0m\u001b[0;34m\u001b[0m\u001b[0m\n",
            "\u001b[0;31mAttributeError\u001b[0m: module 'statistics' has no attribute 'NormalDist'"
          ]
        }
      ],
      "source": [
        "from statistics import mean,stdev\n",
        "print(\"Enter the number of datas = \")\n",
        "data = []\n",
        "N = int(input())\n",
        "for i in range(0,N):\n",
        "    x = float(input())\n",
        "    data.append(x)\n",
        "print(\"Mean = \",mean(data))\n",
        "print(\"Std. Deviation =\", stdev(data))\n",
        "\n",
        "import statistics as s\n",
        "nd=s.NormalDist(mean(data),stdev(data))\n",
        "cont=1\n",
        "while(cont==1):\n",
        "    print(\"\\n1.Probability lesser than or equal\\n2.Probability greater than or equal \\n3. Probability between 2 \\n4. Probability for particular value\")\n",
        "    ch=input(\"Enter(lesser/greater/between/particular value) = \")\n",
        "    if(ch==\"lesser\"):\n",
        "        val=float(input(\"Enter x - \"))\n",
        "        n=nd.cdf(val)\n",
        "        print(\"Probability lesser than or equal to\",val,\"is =\",n)\n",
        "    if(ch==\"greater\"):\n",
        "        val=float(input(\"Enter x - \"))\n",
        "        n=nd.cdf(val)\n",
        "        print(\"Probability greater than or equal to\",val,\"is =\",1-n)\n",
        "    if(ch==\"between\"):\n",
        "        val1=float(input(\"Enter x - \"))\n",
        "        val2=float(input(\"Enter y - \"))\n",
        "        n=nd.cdf(val2)-nd.cdf(val1)\n",
        "        print(\"Probability between\",val1,\"and \",val2,\"is =\",n)\n",
        "    if(ch==\"particular value\"):\n",
        "        val=float(input(\"Enter x - \"))\n",
        "        print(\"0.0\")\n",
        "\n",
        "        \n",
        "    cont=int(input(\"Continue-1 / Stop-0 - \"))\n",
        "    print(\"NEXT\")"
      ]
    },
    {
      "cell_type": "code",
      "source": [
        ""
      ],
      "metadata": {
        "id": "SmLtOC7h-NX_"
      },
      "execution_count": null,
      "outputs": []
    }
  ]
}